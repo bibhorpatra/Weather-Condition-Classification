{
 "cells": [
  {
   "cell_type": "markdown",
   "id": "98ca2ec5",
   "metadata": {},
   "source": [
    "# Weather Condition Categorization "
   ]
  },
  {
   "cell_type": "code",
   "execution_count": 3,
   "id": "792274e5",
   "metadata": {},
   "outputs": [],
   "source": [
    "# Data manipulation and analysis\n",
    "import pandas as pd\n",
    "import numpy as np\n",
    "\n",
    "# Visualization libraries\n",
    "import matplotlib.pyplot as plt\n",
    "import seaborn as sns\n",
    "\n",
    "# Machine learning models and tools\n",
    "from sklearn.model_selection import train_test_split, GridSearchCV, cross_val_score\n",
    "from sklearn.preprocessing import StandardScaler\n",
    "from sklearn.pipeline import Pipeline\n",
    "from sklearn.metrics import classification_report, confusion_matrix, accuracy_score\n",
    "\n",
    "# Classification models\n",
    "from sklearn.linear_model import LogisticRegression\n",
    "from sklearn.tree import DecisionTreeClassifier\n",
    "from sklearn.ensemble import RandomForestClassifier, GradientBoostingClassifier\n",
    "from sklearn.svm import SVC\n",
    "from sklearn.neighbors import KNeighborsClassifier\n",
    "from sklearn.naive_bayes import GaussianNB\n",
    "\n",
    "# To ignore warnings\n",
    "import warnings\n",
    "warnings.filterwarnings('ignore')"
   ]
  },
  {
   "cell_type": "code",
   "execution_count": null,
   "id": "41a194f3",
   "metadata": {},
   "outputs": [],
   "source": [
    "data=pd.read_csv('/kaggle/input/weather-type-classification/weather_classification_data.csv')"
   ]
  },
  {
   "cell_type": "code",
   "execution_count": null,
   "id": "b4e17f1b",
   "metadata": {},
   "outputs": [],
   "source": [
    "data.head(5)"
   ]
  },
  {
   "cell_type": "code",
   "execution_count": null,
   "id": "e44d1f23",
   "metadata": {},
   "outputs": [],
   "source": [
    "data.info()"
   ]
  },
  {
   "cell_type": "code",
   "execution_count": null,
   "id": "c1acae82",
   "metadata": {},
   "outputs": [],
   "source": [
    "print(\"\\nSummary statistics of numerical variables:\")\n",
    "data.describe()"
   ]
  },
  {
   "cell_type": "code",
   "execution_count": null,
   "id": "8fa4c214",
   "metadata": {},
   "outputs": [],
   "source": [
    "# Summary of categorical variables\n",
    "print(\"\\nSummary of categorical variables:\")\n",
    "data.describe(include=['object', 'category'])"
   ]
  },
  {
   "cell_type": "code",
   "execution_count": null,
   "id": "7be13fd0",
   "metadata": {},
   "outputs": [],
   "source": [
    "# Visual exploration: histograms for numerical variables\n",
    "plt.figure(figsize=(12, 8))\n",
    "\n",
    "plt.subplot(2, 2, 1)\n",
    "sns.histplot(data['Temperature'], bins=20, kde=True, color='#835C3B', alpha=0.7)\n",
    "plt.title('Distribution of Temperature')\n",
    "plt.xlabel('Temperature (Celsius)')\n",
    "plt.ylabel('Count')\n",
    "\n",
    "plt.subplot(2, 2, 2)\n",
    "sns.histplot(data['Humidity'], bins=20, kde=True, color='#3F000F', alpha=0.7)\n",
    "plt.title('Distribution of Humidity')\n",
    "plt.xlabel('Humidity (%)')\n",
    "plt.ylabel('Count')\n",
    "\n",
    "plt.subplot(2, 2, 3)\n",
    "sns.histplot(data['Wind Speed'], bins=20, kde=True, color='#1F6357', alpha=0.7)\n",
    "plt.title('Distribution of Wind Speed')\n",
    "plt.xlabel('Wind Speed (km/h)')\n",
    "plt.ylabel('Count')\n",
    "\n",
    "plt.subplot(2, 2, 4)\n",
    "sns.histplot(data['Precipitation (%)'], bins=20, kde=True, color='#3C565B', alpha=0.7)\n",
    "plt.title('Distribution of Precipitation')\n",
    "plt.xlabel('Precipitation (%)')\n",
    "plt.ylabel('Count')\n",
    "\n",
    "plt.tight_layout()\n",
    "plt.show()"
   ]
  },
  {
   "cell_type": "code",
   "execution_count": null,
   "id": "48e8ce60",
   "metadata": {},
   "outputs": [],
   "source": [
    "# Visual exploration: count plots for categorical variables\n",
    "plt.figure(figsize=(16, 10))\n",
    "\n",
    "plt.subplot(2, 2, 1)\n",
    "sns.countplot(x='Cloud Cover', data=data, palette='Set2')\n",
    "plt.title('Count of Cloud Cover')\n",
    "\n",
    "plt.subplot(2, 2, 2)\n",
    "sns.countplot(x='Season', data=data, palette='Set1')\n",
    "plt.title('Count of Season')\n",
    "\n",
    "plt.subplot(2, 2, 3)\n",
    "sns.countplot(x='Location', data=data, palette='Set3')\n",
    "plt.title('Count of Location')\n",
    "\n",
    "plt.subplot(2, 2, 4)\n",
    "sns.countplot(x='Weather Type', data=data, palette='Pastel1')\n",
    "plt.title('Count of Weather Type')\n",
    "\n",
    "plt.tight_layout()\n",
    "plt.show()"
   ]
  },
  {
   "cell_type": "code",
   "execution_count": null,
   "id": "02a31b65",
   "metadata": {},
   "outputs": [],
   "source": [
    "data.isnull().sum()"
   ]
  },
  {
   "cell_type": "code",
   "execution_count": null,
   "id": "8f93996b",
   "metadata": {},
   "outputs": [],
   "source": [
    "from sklearn.preprocessing import LabelEncoder\n",
    "from sklearn.compose import ColumnTransformer"
   ]
  },
  {
   "cell_type": "code",
   "execution_count": null,
   "id": "2a7024a9",
   "metadata": {},
   "outputs": [],
   "source": [
    "# Separate features and target variable\n",
    "X = data.drop('Weather Type', axis=1)\n",
    "y = data['Weather Type']"
   ]
  },
  {
   "cell_type": "code",
   "execution_count": null,
   "id": "d7a34a82",
   "metadata": {},
   "outputs": [],
   "source": [
    "# Splitting the dataset into train and test sets\n",
    "X_train, X_test, y_train, y_test = train_test_split(X, y, test_size=0.2, random_state=42)"
   ]
  },
  {
   "cell_type": "code",
   "execution_count": null,
   "id": "680bdc1b",
   "metadata": {},
   "outputs": [],
   "source": [
    "# Define categorical features for label encoding\n",
    "categorical_features = ['Cloud Cover', 'Season', 'Location']\n",
    "\n",
    "# Initialize LabelEncoder\n",
    "label_encoder = LabelEncoder()\n",
    "\n",
    "# Apply LabelEncoder to each categorical feature\n",
    "for feature in categorical_features:\n",
    "    X_train[feature] = label_encoder.fit_transform(X_train[feature])\n",
    "    X_test[feature] = label_encoder.transform(X_test[feature])"
   ]
  },
  {
   "cell_type": "code",
   "execution_count": null,
   "id": "aa2e0217",
   "metadata": {},
   "outputs": [],
   "source": [
    "# Print preprocessed data sample\n",
    "print(\"Sample of X_train after label encoding:\")\n",
    "X_train.head()"
   ]
  },
  {
   "cell_type": "code",
   "execution_count": null,
   "id": "7c90976f",
   "metadata": {},
   "outputs": [],
   "source": [
    "# Define numerical features for standard scaling\n",
    "numeric_features = ['Temperature', 'Humidity', 'Wind Speed', 'Precipitation (%)', 'Atmospheric Pressure', 'UV Index', 'Visibility (km)']"
   ]
  },
  {
   "cell_type": "code",
   "execution_count": null,
   "id": "a4ce20e3",
   "metadata": {},
   "outputs": [],
   "source": [
    "# Initialize StandardScaler\n",
    "scaler = StandardScaler()\n",
    "\n",
    "# Fit and transform the training data with StandardScaler\n",
    "X_train_scaled = X_train.copy()  \n",
    "X_train_scaled[numeric_features] = scaler.fit_transform(X_train[numeric_features])"
   ]
  },
  {
   "cell_type": "code",
   "execution_count": null,
   "id": "bb6e0488",
   "metadata": {},
   "outputs": [],
   "source": [
    "# Transform the test data using the fitted scaler\n",
    "X_test_scaled = X_test.copy() \n",
    "X_test_scaled[numeric_features] = scaler.transform(X_test[numeric_features])\n",
    "\n",
    "# Print preprocessed data sample\n",
    "print(\"Sample of X_train after numerical feature scaling:\")\n",
    "X_train_scaled.head()"
   ]
  },
  {
   "cell_type": "code",
   "execution_count": null,
   "id": "f4cf621e",
   "metadata": {},
   "outputs": [],
   "source": [
    "# Separate numerical features for correlation analysis\n",
    "numerical_features = ['Temperature', 'Humidity', 'Wind Speed', 'Precipitation (%)', 'Atmospheric Pressure', 'UV Index', 'Visibility (km)']\n",
    "\n",
    "# Compute the correlation matrix for numerical features\n",
    "corr_matrix = data[numerical_features].corr()\n",
    "\n",
    "# Generate a mask for the upper triangle\n",
    "mask = np.triu(np.ones_like(corr_matrix, dtype=bool))\n",
    "\n",
    "# Set up the matplotlib figure\n",
    "plt.figure(figsize=(8,6))\n",
    "\n",
    "# Plot the heatmap\n",
    "sns.heatmap(corr_matrix, mask=mask, annot=True, cmap='copper', fmt='.2f', linewidths=0.5)\n",
    "\n",
    "plt.title('Correlation Matrix Heatmap (Numerical Features)')\n",
    "plt.show()"
   ]
  },
  {
   "cell_type": "code",
   "execution_count": null,
   "id": "cf100b22",
   "metadata": {},
   "outputs": [],
   "source": [
    "# Define classifiers\n",
    "classifiers = {\n",
    "    'Logistic Regression': LogisticRegression(random_state=42),\n",
    "    'Decision Tree': DecisionTreeClassifier(random_state=42),\n",
    "    'Random Forest': RandomForestClassifier(random_state=42),\n",
    "    'Gradient Boosting': GradientBoostingClassifier(random_state=42),\n",
    "    'SVM': SVC(random_state=42),\n",
    "    'KNN': KNeighborsClassifier(),\n",
    "    'Naive Bayes': GaussianNB()\n",
    "}"
   ]
  },
  {
   "cell_type": "code",
   "execution_count": null,
   "id": "66a6aec8",
   "metadata": {},
   "outputs": [],
   "source": [
    "# Train and evaluate each classifier\n",
    "for clf_name, clf in classifiers.items():\n",
    "    print(f\"Training {clf_name}...\")\n",
    "    clf.fit(X_train_scaled, y_train)\n",
    "    y_pred = clf.predict(X_test_scaled)\n",
    "    \n",
    "    # Evaluate\n",
    "    accuracy = accuracy_score(y_test, y_pred)\n",
    "    print(f\"Accuracy: {accuracy:.4f}\")\n",
    "    \n",
    "    # Print classification report for detailed metrics\n",
    "    f\"\\nClassification Report for {clf_name}:\"\n",
    "    print(classification_report(y_test, y_pred))\n",
    "\n",
    "    print(\"=\"*80) "
   ]
  },
  {
   "cell_type": "code",
   "execution_count": null,
   "id": "a7d346bf",
   "metadata": {},
   "outputs": [],
   "source": [
    "# Initialize Random Forest Classifier\n",
    "rf_classifier = RandomForestClassifier(random_state=42)\n",
    "\n",
    "# Train the model\n",
    "rf_classifier.fit(X_train_scaled, y_train)\n",
    "\n",
    "# Feature importance\n",
    "importance = rf_classifier.feature_importances_\n",
    "feature_names = X.columns\n",
    "\n",
    "# Create a DataFrame to visualize feature importance\n",
    "feature_importance_df = pd.DataFrame({'Feature': feature_names, 'Importance': importance})\n",
    "feature_importance_df = feature_importance_df.sort_values(by='Importance', ascending=False)\n",
    "\n",
    "# Print feature importance\n",
    "print(\"Feature Importance (Random Forest):\")\n",
    "feature_importance_df"
   ]
  },
  {
   "cell_type": "code",
   "execution_count": null,
   "id": "6daa3444",
   "metadata": {},
   "outputs": [],
   "source": [
    "# Plotting feature importance\n",
    "plt.figure(figsize=(10, 6))\n",
    "sns.barplot(x='Importance', y='Feature', data=feature_importance_df, palette='copper')\n",
    "plt.title('Feature Importance - Random Forest Classifier')\n",
    "plt.xlabel('Importance')\n",
    "plt.ylabel('Feature')\n",
    "plt.show()"
   ]
  }
 ],
 "metadata": {
  "kernelspec": {
   "display_name": "Python 3 (ipykernel)",
   "language": "python",
   "name": "python3"
  },
  "language_info": {
   "codemirror_mode": {
    "name": "ipython",
    "version": 3
   },
   "file_extension": ".py",
   "mimetype": "text/x-python",
   "name": "python",
   "nbconvert_exporter": "python",
   "pygments_lexer": "ipython3",
   "version": "3.11.7"
  }
 },
 "nbformat": 4,
 "nbformat_minor": 5
}
